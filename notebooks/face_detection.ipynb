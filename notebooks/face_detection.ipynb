{
 "cells": [
  {
   "cell_type": "code",
   "execution_count": 1,
   "id": "c7c171c0",
   "metadata": {},
   "outputs": [],
   "source": [
    "import PIL.Image\n",
    "import PIL.ImageDraw\n",
    "import face_recognition"
   ]
  },
  {
   "cell_type": "markdown",
   "id": "ca2f620a",
   "metadata": {},
   "source": [
    "step 1: Locate and extract faces from image\n",
    "step 2: Identify Facial Features\n",
    "step 3: Align face to match pose template\n",
    "step 4: Represent Face as Measurements (facial encoding using trained NN)\n",
    "step 5: Compare to other faces using Euclidean distance between face encoding\n"
   ]
  },
  {
   "cell_type": "markdown",
   "id": "4bf75b46",
   "metadata": {},
   "source": [
    "HOG Algorithm or Histogram Of Oriented Gradients"
   ]
  },
  {
   "cell_type": "code",
   "execution_count": 2,
   "id": "0737fec4",
   "metadata": {},
   "outputs": [
    {
     "data": {
      "text/plain": [
       "'/Users/elohokemi/code/face_detection_HOG/notebooks'"
      ]
     },
     "execution_count": 2,
     "metadata": {},
     "output_type": "execute_result"
    }
   ],
   "source": [
    "%pwd"
   ]
  },
  {
   "cell_type": "code",
   "execution_count": 24,
   "id": "98725402",
   "metadata": {},
   "outputs": [],
   "source": [
    "#load jpg to numpy array\n",
    "#image = face_recognition.load_image_file(\"../raw_data/people.jpg\")\n",
    "image = face_recognition.load_image_file(\"../raw_data/mine/IMG_0424.jpg\")"
   ]
  },
  {
   "cell_type": "code",
   "execution_count": 25,
   "id": "73479e0d",
   "metadata": {},
   "outputs": [],
   "source": [
    "#find all the faces in the image\n",
    "face_locations = face_recognition.face_locations(image)"
   ]
  },
  {
   "cell_type": "code",
   "execution_count": 26,
   "id": "ab71bf4e",
   "metadata": {},
   "outputs": [
    {
     "name": "stdout",
     "output_type": "stream",
     "text": [
      "I found 4 face(s) in this photo\n"
     ]
    }
   ],
   "source": [
    "no_of_faces = len(face_locations)\n",
    "print(f\"I found {no_of_faces} face(s) in this photo\")"
   ]
  },
  {
   "cell_type": "code",
   "execution_count": 27,
   "id": "e33649aa",
   "metadata": {},
   "outputs": [
    {
     "data": {
      "text/plain": [
       "(1094, 1981, 1760, 1315)"
      ]
     },
     "execution_count": 27,
     "metadata": {},
     "output_type": "execute_result"
    }
   ],
   "source": [
    "face_locations[0]"
   ]
  },
  {
   "cell_type": "code",
   "execution_count": 28,
   "id": "3230ef42",
   "metadata": {},
   "outputs": [],
   "source": [
    " pil_image = PIL.Image.fromarray(image)"
   ]
  },
  {
   "cell_type": "code",
   "execution_count": 29,
   "id": "bc2fc7e5",
   "metadata": {},
   "outputs": [
    {
     "name": "stdout",
     "output_type": "stream",
     "text": [
      "A face is located at pixel location Top: 1094, Left: 1315, Bottom: 1760, Right: 1981\n",
      "A face is located at pixel location Top: 1242, Left: 2129, Bottom: 1907, Right: 2794\n",
      "A face is located at pixel location Top: 741, Left: 1917, Bottom: 1062, Right: 2238\n",
      "A face is located at pixel location Top: 798, Left: 576, Bottom: 1464, Right: 1241\n"
     ]
    }
   ],
   "source": [
    "for fl in face_locations:\n",
    "    top, right, bottom, left = fl\n",
    "    print(f\"A face is located at pixel location Top: {top}, Left: {left}, Bottom: {bottom}, Right: {right}\")\n",
    "   \n",
    "    draw = PIL.ImageDraw.Draw(pil_image)\n",
    "    draw.rectangle([left, top, right, bottom], outline =\"red\")"
   ]
  },
  {
   "cell_type": "code",
   "execution_count": 30,
   "id": "5a67bac6",
   "metadata": {},
   "outputs": [],
   "source": [
    "pil_image.show()"
   ]
  },
  {
   "cell_type": "code",
   "execution_count": null,
   "id": "3ac01fb4",
   "metadata": {},
   "outputs": [],
   "source": []
  },
  {
   "cell_type": "markdown",
   "id": "571551a5",
   "metadata": {},
   "source": [
    "Face Landmark Estimation"
   ]
  },
  {
   "cell_type": "code",
   "execution_count": 51,
   "id": "7c95d999",
   "metadata": {},
   "outputs": [],
   "source": [
    "#load jpg to numpy array\n",
    "#image2 = face_recognition.load_image_file(\"../raw_data/people.jpg\")\n",
    "image2 = face_recognition.load_image_file(\"../raw_data/mine/IMG_0424.jpg\")"
   ]
  },
  {
   "cell_type": "code",
   "execution_count": 52,
   "id": "4f6877eb",
   "metadata": {},
   "outputs": [],
   "source": [
    "face_ll = face_recognition.face_landmarks(image2)"
   ]
  },
  {
   "cell_type": "code",
   "execution_count": 53,
   "id": "8e038556",
   "metadata": {},
   "outputs": [
    {
     "name": "stdout",
     "output_type": "stream",
     "text": [
      "I found 4 face(s) in this photo\n"
     ]
    }
   ],
   "source": [
    "no_of_faces2 = len(face_ll)\n",
    "print(f\"I found {no_of_faces2} face(s) in this photo\")"
   ]
  },
  {
   "cell_type": "code",
   "execution_count": 54,
   "id": "83af5377",
   "metadata": {},
   "outputs": [],
   "source": [
    "pil_image2 = PIL.Image.fromarray(image2)"
   ]
  },
  {
   "cell_type": "code",
   "execution_count": 55,
   "id": "fadaec6b",
   "metadata": {},
   "outputs": [],
   "source": [
    "draw2 = PIL.ImageDraw.Draw(pil_image2)"
   ]
  },
  {
   "cell_type": "code",
   "execution_count": 56,
   "id": "944a7f3d",
   "metadata": {},
   "outputs": [
    {
     "name": "stdout",
     "output_type": "stream",
     "text": [
      "The chin in this face has the following points: [(1322, 1295), (1315, 1368), (1315, 1446), (1321, 1528), (1342, 1608), (1384, 1678), (1438, 1737), (1506, 1783), (1594, 1803), (1683, 1794), (1762, 1758), (1823, 1704), (1871, 1639), (1900, 1565), (1919, 1490), (1933, 1418), (1940, 1347)]\n",
      "The left_eyebrow in this face has the following points: [(1374, 1175), (1411, 1139), (1461, 1123), (1513, 1129), (1558, 1157)]\n",
      "The right_eyebrow in this face has the following points: [(1709, 1168), (1758, 1151), (1815, 1156), (1864, 1178), (1896, 1223)]\n",
      "The nose_bridge in this face has the following points: [(1625, 1251), (1621, 1291), (1616, 1331), (1612, 1374)]\n",
      "The nose_tip in this face has the following points: [(1531, 1433), (1569, 1442), (1609, 1452), (1651, 1447), (1692, 1444)]\n",
      "The left_eye in this face has the following points: [(1416, 1270), (1456, 1254), (1498, 1258), (1535, 1283), (1492, 1287), (1450, 1283)]\n",
      "The right_eye in this face has the following points: [(1721, 1299), (1766, 1281), (1808, 1283), (1842, 1306), (1806, 1315), (1763, 1310)]\n",
      "The top_lip in this face has the following points: [(1444, 1548), (1498, 1508), (1563, 1493), (1609, 1502), (1656, 1496), (1721, 1518), (1777, 1562), (1754, 1565), (1654, 1541), (1607, 1541), (1560, 1536), (1466, 1552)]\n",
      "The bottom_lip in this face has the following points: [(1777, 1562), (1723, 1634), (1655, 1661), (1603, 1664), (1553, 1656), (1490, 1623), (1444, 1548), (1466, 1552), (1559, 1596), (1608, 1604), (1656, 1602), (1754, 1565)]\n",
      "The chin in this face has the following points: [(2191, 1529), (2195, 1597), (2207, 1667), (2234, 1741), (2269, 1818), (2315, 1890), (2376, 1947), (2454, 1979), (2554, 1971), (2654, 1947), (2735, 1904), (2800, 1841), (2845, 1757), (2863, 1664), (2865, 1570), (2858, 1479), (2846, 1393)]\n",
      "The left_eyebrow in this face has the following points: [(2191, 1428), (2207, 1377), (2247, 1345), (2302, 1330), (2357, 1335)]\n",
      "The right_eyebrow in this face has the following points: [(2460, 1293), (2525, 1253), (2600, 1239), (2673, 1248), (2739, 1282)]\n",
      "The nose_bridge in this face has the following points: [(2419, 1393), (2421, 1436), (2422, 1478), (2422, 1523)]\n",
      "The nose_tip in this face has the following points: [(2389, 1610), (2422, 1611), (2458, 1610), (2498, 1593), (2538, 1580)]\n",
      "The left_eye in this face has the following points: [(2251, 1488), (2281, 1461), (2319, 1448), (2366, 1453), (2328, 1468), (2290, 1481)]\n",
      "The right_eye in this face has the following points: [(2546, 1406), (2589, 1381), (2631, 1372), (2677, 1381), (2639, 1395), (2597, 1403)]\n",
      "The top_lip in this face has the following points: [(2338, 1750), (2376, 1685), (2429, 1652), (2479, 1651), (2531, 1636), (2613, 1643), (2702, 1678), (2683, 1683), (2538, 1668), (2485, 1680), (2436, 1686), (2360, 1744)]\n",
      "The bottom_lip in this face has the following points: [(2702, 1678), (2634, 1731), (2560, 1766), (2505, 1780), (2454, 1787), (2394, 1781), (2338, 1750), (2360, 1744), (2444, 1748), (2494, 1742), (2548, 1730), (2683, 1683)]\n",
      "The chin in this face has the following points: [(1923, 831), (1923, 873), (1926, 913), (1934, 953), (1948, 990), (1975, 1022), (2010, 1050), (2053, 1071), (2101, 1077), (2146, 1068), (2184, 1042), (2217, 1013), (2242, 979), (2254, 941), (2257, 901), (2257, 861), (2254, 821)]\n",
      "The left_eyebrow in this face has the following points: [(1957, 806), (1979, 785), (2010, 777), (2043, 779), (2071, 791)]\n",
      "The right_eyebrow in this face has the following points: [(2123, 785), (2151, 771), (2181, 766), (2210, 771), (2229, 793)]\n",
      "The nose_bridge in this face has the following points: [(2101, 817), (2102, 846), (2103, 875), (2104, 904)]\n",
      "The nose_tip in this face has the following points: [(2062, 915), (2082, 922), (2103, 929), (2123, 922), (2140, 914)]\n",
      "The left_eye in this face has the following points: [(1995, 826), (2014, 819), (2033, 820), (2052, 829), (2033, 828), (2015, 828)]\n",
      "The right_eye in this face has the following points: [(2142, 824), (2161, 814), (2179, 812), (2197, 818), (2181, 821), (2163, 824)]\n",
      "The top_lip in this face has the following points: [(2012, 951), (2045, 941), (2078, 940), (2101, 944), (2126, 940), (2155, 942), (2183, 949), (2174, 952), (2126, 953), (2101, 956), (2077, 954), (2021, 953)]\n",
      "The bottom_lip in this face has the following points: [(2183, 949), (2155, 979), (2126, 993), (2099, 996), (2074, 994), (2042, 981), (2012, 951), (2021, 953), (2075, 975), (2099, 977), (2125, 974), (2174, 952)]\n",
      "The chin in this face has the following points: [(589, 908), (561, 993), (536, 1079), (517, 1169), (518, 1262), (548, 1351), (598, 1428), (665, 1491), (752, 1531), (842, 1539), (921, 1500), (986, 1448), (1039, 1389), (1080, 1327), (1115, 1266), (1143, 1207), (1165, 1148)]\n",
      "The left_eyebrow in this face has the following points: [(724, 897), (785, 880), (848, 889), (905, 914), (953, 954)]\n",
      "The right_eyebrow in this face has the following points: [(1032, 991), (1084, 995), (1134, 1015), (1169, 1048), (1176, 1094)]\n",
      "The nose_bridge in this face has the following points: [(978, 1013), (964, 1053), (950, 1094), (937, 1138)]\n",
      "The nose_tip in this face has the following points: [(835, 1153), (865, 1178), (897, 1204), (933, 1207), (965, 1206)]\n",
      "The left_eye in this face has the following points: [(777, 954), (819, 957), (853, 971), (876, 997), (839, 986), (806, 971)]\n",
      "The right_eye in this face has the following points: [(1018, 1062), (1062, 1063), (1094, 1080), (1113, 1106), (1081, 1096), (1049, 1081)]\n",
      "The top_lip in this face has the following points: [(696, 1221), (768, 1219), (834, 1235), (870, 1256), (911, 1262), (948, 1286), (976, 1320), (957, 1317), (899, 1282), (860, 1271), (822, 1254), (711, 1231)]\n",
      "The bottom_lip in this face has the following points: [(976, 1320), (918, 1359), (867, 1364), (826, 1354), (785, 1335), (732, 1292), (696, 1221), (711, 1231), (804, 1306), (844, 1323), (885, 1330), (957, 1317)]\n"
     ]
    }
   ],
   "source": [
    "for fl in face_ll:\n",
    "    \n",
    "    \n",
    "    for name, lop in fl.items():\n",
    "        \n",
    "        print(f\"The {name} in this face has the following points: {lop}\")\n",
    "        \n",
    "        draw2.line(lop, fill=\"red\", width=2)"
   ]
  },
  {
   "cell_type": "code",
   "execution_count": 57,
   "id": "2f442a0d",
   "metadata": {},
   "outputs": [],
   "source": [
    "pil_image2.show()"
   ]
  },
  {
   "cell_type": "code",
   "execution_count": null,
   "id": "1916b036",
   "metadata": {},
   "outputs": [],
   "source": []
  },
  {
   "cell_type": "code",
   "execution_count": null,
   "id": "90026d6a",
   "metadata": {},
   "outputs": [],
   "source": []
  }
 ],
 "metadata": {
  "kernelspec": {
   "display_name": "Python 3 (ipykernel)",
   "language": "python",
   "name": "python3"
  },
  "language_info": {
   "codemirror_mode": {
    "name": "ipython",
    "version": 3
   },
   "file_extension": ".py",
   "mimetype": "text/x-python",
   "name": "python",
   "nbconvert_exporter": "python",
   "pygments_lexer": "ipython3",
   "version": "3.8.12"
  },
  "toc": {
   "base_numbering": 1,
   "nav_menu": {},
   "number_sections": true,
   "sideBar": true,
   "skip_h1_title": false,
   "title_cell": "Table of Contents",
   "title_sidebar": "Contents",
   "toc_cell": false,
   "toc_position": {},
   "toc_section_display": true,
   "toc_window_display": false
  }
 },
 "nbformat": 4,
 "nbformat_minor": 5
}
