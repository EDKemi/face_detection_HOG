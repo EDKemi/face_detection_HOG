{
 "cells": [
  {
   "cell_type": "code",
   "execution_count": null,
   "id": "54a5c17f",
   "metadata": {},
   "outputs": [],
   "source": []
  },
  {
   "cell_type": "code",
   "execution_count": 1,
   "id": "4e8047fc",
   "metadata": {},
   "outputs": [],
   "source": [
    "import PIL.Image\n",
    "import PIL.ImageDraw\n",
    "import face_recognition"
   ]
  },
  {
   "cell_type": "code",
   "execution_count": 2,
   "id": "2a963eb1",
   "metadata": {},
   "outputs": [],
   "source": [
    "#load jpg to numpy array\n",
    "#image = face_recognition.load_image_file(\"../raw_data/people.jpg\")\n",
    "image = face_recognition.load_image_file(\"../raw_data/mine/IMG_0424.jpg\")"
   ]
  },
  {
   "cell_type": "code",
   "execution_count": 7,
   "id": "bcd943af",
   "metadata": {},
   "outputs": [
    {
     "data": {
      "text/plain": [
       "4"
      ]
     },
     "execution_count": 7,
     "metadata": {},
     "output_type": "execute_result"
    }
   ],
   "source": [
    "face_encodings = face_recognition.face_encodings(image)\n",
    "len(face_encodings)"
   ]
  },
  {
   "cell_type": "code",
   "execution_count": 8,
   "id": "45899889",
   "metadata": {},
   "outputs": [
    {
     "name": "stdout",
     "output_type": "stream",
     "text": [
      "[-0.13013881  0.03504841  0.18701029 -0.02956838 -0.04150381 -0.14351258\n",
      "  0.02221874 -0.1073291   0.12077177 -0.10771415  0.20990811 -0.04613825\n",
      " -0.18722466 -0.1088706   0.05635522  0.15544826 -0.13527474 -0.17232953\n",
      " -0.05216152 -0.01938108  0.01705118  0.03182891  0.0524103   0.10824222\n",
      " -0.15627013 -0.35255671 -0.08132819 -0.0769606   0.02825533  0.0232071\n",
      "  0.02404124  0.16256113 -0.2586816  -0.01693264  0.00148176  0.09334861\n",
      " -0.0103443  -0.02583786  0.1254898  -0.01430054 -0.30286494 -0.09161203\n",
      " -0.01000049  0.23013023  0.1395146  -0.0708202   0.02199224 -0.07698368\n",
      " -0.0081701  -0.257743    0.01247733  0.13195105  0.0864809   0.03517768\n",
      " -0.02703243 -0.17040971 -0.00732994  0.0647826  -0.16339748 -0.0025918\n",
      " -0.01799471 -0.11537942 -0.05786026 -0.08707273  0.25672761  0.10942286\n",
      " -0.14707026 -0.13739063  0.18502453 -0.16014606  0.00250099  0.14584534\n",
      " -0.1138134  -0.12361266 -0.32693705 -0.02270664  0.34248072  0.02570273\n",
      " -0.23552053  0.03055089 -0.24511179  0.05878773 -0.04801086  0.12989572\n",
      " -0.06106843  0.11303653 -0.07918811  0.01136926  0.15640491 -0.07067927\n",
      "  0.00404339  0.27332807  0.03020931  0.04140658  0.03637197 -0.035353\n",
      " -0.03894676 -0.06758207 -0.15985663 -0.0617671  -0.00365751 -0.02674353\n",
      " -0.01913755  0.15759689 -0.23004769  0.17719375  0.08075171 -0.01649009\n",
      "  0.12259154  0.07960227 -0.0729236  -0.22243339  0.11484836 -0.22337168\n",
      "  0.12959236  0.18519565  0.05012045  0.14917274  0.05398647  0.11415245\n",
      " -0.09765253 -0.05330965 -0.11295646  0.07116456  0.15266338 -0.08852644\n",
      " -0.04481217  0.00252242]\n"
     ]
    }
   ],
   "source": [
    "if len(face_encodings) ==0:\n",
    "    print(\"No faces were found\")\n",
    "else:\n",
    "    first_fe =face_encodings[0]\n",
    "    \n",
    "    print(first_fe)"
   ]
  },
  {
   "cell_type": "code",
   "execution_count": null,
   "id": "b5511ef5",
   "metadata": {},
   "outputs": [],
   "source": []
  },
  {
   "cell_type": "code",
   "execution_count": null,
   "id": "c0ef81a7",
   "metadata": {},
   "outputs": [],
   "source": []
  },
  {
   "cell_type": "code",
   "execution_count": null,
   "id": "566bec3f",
   "metadata": {},
   "outputs": [],
   "source": []
  },
  {
   "cell_type": "code",
   "execution_count": null,
   "id": "477e96e4",
   "metadata": {},
   "outputs": [],
   "source": []
  },
  {
   "cell_type": "code",
   "execution_count": null,
   "id": "499f0024",
   "metadata": {},
   "outputs": [],
   "source": []
  }
 ],
 "metadata": {
  "kernelspec": {
   "display_name": "Python 3 (ipykernel)",
   "language": "python",
   "name": "python3"
  },
  "language_info": {
   "codemirror_mode": {
    "name": "ipython",
    "version": 3
   },
   "file_extension": ".py",
   "mimetype": "text/x-python",
   "name": "python",
   "nbconvert_exporter": "python",
   "pygments_lexer": "ipython3",
   "version": "3.8.12"
  },
  "toc": {
   "base_numbering": 1,
   "nav_menu": {},
   "number_sections": true,
   "sideBar": true,
   "skip_h1_title": false,
   "title_cell": "Table of Contents",
   "title_sidebar": "Contents",
   "toc_cell": false,
   "toc_position": {},
   "toc_section_display": true,
   "toc_window_display": false
  }
 },
 "nbformat": 4,
 "nbformat_minor": 5
}
